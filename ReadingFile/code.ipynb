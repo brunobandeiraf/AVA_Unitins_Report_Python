{
 "cells": [
  {
   "cell_type": "code",
   "execution_count": null,
   "metadata": {},
   "outputs": [],
   "source": [
    "import camelot"
   ]
  },
  {
   "cell_type": "code",
   "execution_count": null,
   "metadata": {},
   "outputs": [],
   "source": [
    "# Ler o arquivo PDF\n",
    "file_path = './dataset/pontuacao_dia1.pdf'\n",
    "\n",
    "# Extrair todas as tabelas do PDF\n",
    "tables = camelot.read_pdf(file_path, pages='all')\n",
    "\n",
    "# Verificar quantas tabelas foram encontradas\n",
    "print(f'Foram encontradas {len(tables)} tabelas.')"
   ]
  },
  {
   "cell_type": "code",
   "execution_count": null,
   "metadata": {},
   "outputs": [],
   "source": [
    "# Verificar a estrutura das tabelas encontradas\n",
    "for i, table in enumerate(tables):\n",
    "    print(f'Tabela {i + 1}:')\n",
    "    print(table.df)"
   ]
  },
  {
   "cell_type": "code",
   "execution_count": null,
   "metadata": {},
   "outputs": [],
   "source": [
    "# Selecionar uma tabela específica (por exemplo, a primeira tabela)\n",
    "tabela_especifica = tables[0].df"
   ]
  },
  {
   "cell_type": "code",
   "execution_count": null,
   "metadata": {},
   "outputs": [],
   "source": [
    "# Convertê-la para um DataFrame do pandas\n",
    "import pandas as pd\n",
    "df = pd.DataFrame(tabela_especifica)\n",
    "\n",
    "# Exibir o DataFrame\n",
    "print(df)"
   ]
  }
 ],
 "metadata": {
  "kernelspec": {
   "display_name": "Classification_NaiveBayes_IA_Python-90s-jBkK",
   "language": "python",
   "name": "python3"
  },
  "language_info": {
   "codemirror_mode": {
    "name": "ipython",
    "version": 3
   },
   "file_extension": ".py",
   "mimetype": "text/x-python",
   "name": "python",
   "nbconvert_exporter": "python",
   "pygments_lexer": "ipython3",
   "version": "3.12.2"
  }
 },
 "nbformat": 4,
 "nbformat_minor": 2
}
